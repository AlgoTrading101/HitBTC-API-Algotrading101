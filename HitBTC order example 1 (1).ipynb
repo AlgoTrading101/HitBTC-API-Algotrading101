{
 "cells": [
  {
   "cell_type": "code",
   "execution_count": null,
   "metadata": {},
   "outputs": [],
   "source": [
    "import requests\n",
    "import json\n",
    "import pandas as pd\n",
    "from time import sleep\n",
    "import datetime as datetime"
   ]
  },
  {
   "cell_type": "code",
   "execution_count": null,
   "metadata": {},
   "outputs": [],
   "source": [
    "session = requests.session()\n",
    "session.auth = ('sgexXKinYPsjzmmX-GB_0FIHolLxxgMS',\n",
    "              '6IUsfa2RE4IomrqYLZKG8Z-yOvQoK71Y')\n",
    "response = session.get('https://api.demo.hitbtc.com/api/2/trading/balance').json()\n",
    "response"
   ]
  },
  {
   "cell_type": "code",
   "execution_count": null,
   "metadata": {},
   "outputs": [],
   "source": [
    "while True:\n",
    "    try:\n",
    "        response = requests.get('https://api.hitbtc.com/api/2/public/ticker/BTCUSD')\n",
    "        eth_data = response.json()\n",
    "        eth_price = float(eth_data['ask'])\n",
    "        print(eth_price)\n",
    "        \n",
    "    except exception as e:\n",
    "        print('Error obtaining ETH data.')\n",
    "    \n",
    "    if btc_price == 1250:\n",
    "        \n",
    "        try:\n",
    "            session = requests.session()\n",
    "            session.auth = (\"sgexXKinYPsjzmmX-GB_0FIHolLxxgMS\", \"6IUsfa2RE4IomrqYLZKG8Z-yOvQoK71Y\")\n",
    "            orderData = {'symbol':'btcusd', 'side': 'buy', 'quantity': '0.001', 'type': 'market'}\n",
    "            \n",
    "            order = session.post('https://api.demo.hitbtc.com/api/2/order', data = orderData).json()\n",
    "            print(order)\n",
    "            \n",
    "            sleep(2)\n",
    "            \n",
    "            check = session.get('https://api.demo.hitbtc.com/api/2/order/' + order['clientOrderId']).json()\n",
    "            \n",
    "            if check['status'] == 'filled':\n",
    "                print ('Order placed at {}'.format(pd.Timestamp.now()))\n",
    "                break\n",
    "                \n",
    "            else:\n",
    "                print('Order was canceled {}'.format(pd.Timestamp.now()))\n",
    "                break\n",
    "                \n",
    "        except exception as e:\n",
    "            print('Error placing order')\n",
    "        \n",
    "    else:\n",
    "        print('The ETH did not reach the required price')\n",
    "        sleep(10)\n",
    "        continue\n",
    "        "
   ]
  }
 ],
 "metadata": {
  "kernelspec": {
   "display_name": "Python 3",
   "language": "python",
   "name": "python3"
  },
  "language_info": {
   "codemirror_mode": {
    "name": "ipython",
    "version": 3
   },
   "file_extension": ".py",
   "mimetype": "text/x-python",
   "name": "python",
   "nbconvert_exporter": "python",
   "pygments_lexer": "ipython3",
   "version": "3.8.3"
  }
 },
 "nbformat": 4,
 "nbformat_minor": 4
}
